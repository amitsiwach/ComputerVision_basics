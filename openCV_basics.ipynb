{
 "cells": [
  {
   "cell_type": "code",
   "execution_count": 17,
   "id": "54265d95",
   "metadata": {},
   "outputs": [],
   "source": [
    "import cv2\n",
    "import numpy as np"
   ]
  },
  {
   "cell_type": "code",
   "execution_count": 15,
   "id": "0dc0b563",
   "metadata": {},
   "outputs": [],
   "source": [
    "img = cv2.imread('C:/Users/Amit Kumar/Desktop/Self study/MyCodes/openCV basics/Modi.jpg',1)\n",
    "cv2.imshow('Original',img)\n",
    "cv2.waitKey(0)\n",
    "cv2.destroyAllWindows()"
   ]
  },
  {
   "cell_type": "code",
   "execution_count": 8,
   "id": "d85c51f0",
   "metadata": {
    "scrolled": false
   },
   "outputs": [
    {
     "data": {
      "text/plain": [
       "numpy.ndarray"
      ]
     },
     "execution_count": 8,
     "metadata": {},
     "output_type": "execute_result"
    }
   ],
   "source": [
    "type(img)"
   ]
  },
  {
   "cell_type": "markdown",
   "id": "17f68d64",
   "metadata": {},
   "source": [
    "#### Creating Circle"
   ]
  },
  {
   "cell_type": "code",
   "execution_count": 30,
   "id": "8b1d7ab0",
   "metadata": {},
   "outputs": [],
   "source": [
    "pic = np.zeros((500,500,3), dtype = \"uint8\")\n",
    "cv2.rectangle(pic, (0,0), (500,150), (123,200,98), 3, lineType=8, shift=0)\n",
    "cv2.imshow('Dark',pic)\n",
    "cv2.waitKey(0)\n",
    "cv2.destroyAllWindows()"
   ]
  },
  {
   "cell_type": "markdown",
   "id": "46faa401",
   "metadata": {},
   "source": [
    "#### Creating Line"
   ]
  },
  {
   "cell_type": "code",
   "execution_count": 33,
   "id": "091f3485",
   "metadata": {},
   "outputs": [],
   "source": [
    "pic = np.zeros((500,500,3), dtype = \"uint8\")\n",
    "cv2.line(pic, (350,350), (500,350), (123,200,98))\n",
    "cv2.line(pic, (350,200), (500,350), (123,200,98))\n",
    "cv2.imshow('Dark',pic)\n",
    "cv2.waitKey(0)\n",
    "cv2.destroyAllWindows()"
   ]
  },
  {
   "cell_type": "markdown",
   "id": "ee7f6e92",
   "metadata": {},
   "source": [
    "#### Creating Circle"
   ]
  },
  {
   "cell_type": "code",
   "execution_count": 34,
   "id": "220ec0bf",
   "metadata": {},
   "outputs": [],
   "source": [
    "pic = np.zeros((500,500,3), dtype = \"uint8\")\n",
    "color = (255,0,255)\n",
    "cv2.circle(pic, (250,250), 50, color)\n",
    "cv2.imshow('Dark',pic)\n",
    "cv2.waitKey(0)\n",
    "cv2.destroyAllWindows()"
   ]
  },
  {
   "cell_type": "code",
   "execution_count": null,
   "id": "f54ed429",
   "metadata": {},
   "outputs": [],
   "source": []
  }
 ],
 "metadata": {
  "kernelspec": {
   "display_name": "Python 3 (ipykernel)",
   "language": "python",
   "name": "python3"
  },
  "language_info": {
   "codemirror_mode": {
    "name": "ipython",
    "version": 3
   },
   "file_extension": ".py",
   "mimetype": "text/x-python",
   "name": "python",
   "nbconvert_exporter": "python",
   "pygments_lexer": "ipython3",
   "version": "3.9.7"
  }
 },
 "nbformat": 4,
 "nbformat_minor": 5
}
